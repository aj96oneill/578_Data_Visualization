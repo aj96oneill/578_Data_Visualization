{
 "cells": [
  {
   "cell_type": "markdown",
   "metadata": {},
   "source": [
    "# Assignment 6: Hierarchical Clustering\n",
    "\n",
    "### Assignment Description\n",
    "\n",
    "As in your previous assignments, the administrators of the Dino Fun World theme park have asked you, one of their data analysts, to perform a data analysis task in order to help them administer the park. In this case, your task builds upon one of the tasks the administrators previously asked you to perform. In a prior task, you were asked to find the distance between a set of visitor trajectories using a simple edit distance algorithm and report the distances. For this task, you must construct and display a dendrogram of those distances. Again, the administrators of the park have provided a database which contains the information needed.\n",
    "\n",
    "This assignment consists of only one task, which is to generate a dendrogram. Create this dendrogram using the trajectories of the visitors with the IDs: 165316, 1835254, 296394, 404385, and 448990. When performing clustering over the trajectories to inform the dendrogram, use an average distance over all points in the cluster.\n",
    "\n",
    "### Directions\n",
    "\n",
    "The database provided by the park administration is formatted to be readable by any SQL database library. The course staff recommends the sqlite3 library. The database contains three tables, named 'checkin', 'attractions', and 'sequences'. The database file is named 'dinofunworld.db' and is available in the read only directory of the Jupyter Notebook environment (i.e., readonly/dinofunworld.db). It can also be accessed by selecting File > Open > dinofunworld.db.\n",
    "\n",
    "The information contained in each of these tables is listed below:\n",
    "\n",
    "`checkin`:\n",
    "    - The check-in data for all visitors for the day in the park. The data includes two types of check-ins: inferred and actual checkins.\n",
    "    - Fields: visitorID, timestamp, attraction, duration, type\n",
    "`attraction`:\n",
    "    - The attractions in the park by their corresponding AttractionID, Name, Region, Category, and type. Regions are from the VAST Challenge map such as Coaster Alley, Tundra Land, etc. Categories include Thrill rides, Kiddie Rides, etc. Type is broken into Outdoor Coaster, Other Ride, Carousel, etc.\n",
    "    - Fields: AttractionID, Name, Region, Category, type\n",
    "`sequences`:\n",
    "    - The check-in sequences of visitors. These sequences list the position of each visitor to the park. If the visitor has not entered the part yet, the sequence has a value of 0 for that time interval. If the visitor is in the park, the sequence lists are the most visited.\n",
    "    - Fields: visitorID, sequence\n",
    "    \n",
    "Using the data provided, create the dendrogram. (Note: If you are unsure of how to create a dendrogram, please refer to the \"Jupyter Notebook Demonstration: Dendrograms\" video provided in the Jupyter Notebook Assignment 6 section.)\n",
    "\n",
    "### Submission Directions for Assignment Deliverables\n",
    "\n",
    "This assignment will be auto-graded. We recommend that you use Jupyter Notebook in your browser to complete and submit this assignment. In order for your answers to be correctly registered in the system, you must place the code for your answers in the cell indicated for each question. In addition, you should submit the assignment in the cell's display area. The display area should contain only your answer with no extraneous information, or else the answer may not be picked up correctly.\n",
    "\n",
    "Each cell that is going to be graded has a set of comment lines at the beginning of the cell. These lines are extremely important and must not be modified or removed. (Graded Cell and PartID comments must be in the same line for proper execution of code.)\n",
    "\n",
    "Please execute each cell in Jupyter Notebook before submitting.\n",
    "\n",
    "If you choose to download the file and work on your assignment locally, you can also upload your file to each part in the programming assignment submission space. The file you submit should be named \"Assignment_6.ipynb\".\n",
    "\n",
    "### Evaluation\n",
    "\n",
    "There is one part in the grading with a total of 1 point. If some part of your data is incorrect, you will get a score of 0.0. If the submission fails, we will return the corresponding error messages. If the submission is correct, you will see \"Correct\" with 1.0 point for the part."
   ]
  },
  {
   "cell_type": "code",
   "execution_count": 14,
   "metadata": {},
   "outputs": [],
   "source": [
    "import sqlite3\n",
    "import pandas as pd\n",
    "import matplotlib.pyplot as plt\n",
    "\n",
    "import numpy as np\n",
    "from scipy.cluster.hierarchy import linkage, dendrogram\n",
    "from scipy.cluster.vq import whiten\n",
    "\n",
    "\n",
    "db_filename = \"readonly/dinofunworld.db\"\n",
    "\n",
    "conn = sqlite3.connect(db_filename)\n",
    "c = conn.cursor()"
   ]
  },
  {
   "cell_type": "code",
   "execution_count": 18,
   "metadata": {},
   "outputs": [
    {
     "name": "stderr",
     "output_type": "stream",
     "text": [
      "/opt/conda/lib/python3.6/site-packages/scipy/cluster/vq.py:141: RuntimeWarning: Some columns have standard deviation zero. The values of these columns will not change.\n",
      "  RuntimeWarning)\n"
     ]
    },
    {
     "data": {
      "image/png": "[encoded data removed]",
      "text/plain": [
       "<Figure size 432x288 with 1 Axes>"
      ]
     },
     "metadata": {},
     "output_type": "display_data"
    }
   ],
   "source": [
    "# Graded Cell, PartID:RLU7S\n",
    "# Create and display a dendrogram of the trajectories of the 5 visitors specified above.\n",
    "# The clustering algorithm used to create the dendrogram should use the average distance\n",
    "# between points in a cluster.\n",
    "c.execute(\"SELECT * FROM sequences WHERE visitorID IN ('165316', '1835254', '296394', '404385', '448990')\")\n",
    "\n",
    "rows = c.fetchall()\n",
    "all_seq = {}\n",
    "for row in rows:\n",
    "    row_list = list(row)\n",
    "    row_list_str = str(row_list[2])\n",
    "    seq = row_list_str.split(\"-\")\n",
    "    all_seq[int(row_list[1])] = list(map(int, seq))\n",
    "\n",
    "vals = list(all_seq.values())\n",
    "X = np.matrix(vals)\n",
    "Y = whiten(X)\n",
    "links = linkage(Y, 'average')\n",
    "keys = list (all_seq.keys())\n",
    "\n",
    "dendrogram(links, labels=keys)\n",
    "plt.title(\"Normalized Dendrogram of Trajectories of 5 Visitors\")\n",
    "plt.xlabel(\"Visitor IDs\")\n",
    "plt.ylabel(\"Normalized Number of Visits\")\n",
    "plt.show()"
   ]
  },
  {
   "cell_type": "code",
   "execution_count": null,
   "metadata": {},
   "outputs": [],
   "source": []
  }
 ],
 "metadata": {
  "coursera": {
   "course_slug": "cse578",
   "graded_item_id": "uzEng",
   "launcher_item_id": "DhTsY"
  },
  "kernelspec": {
   "display_name": "Python 3",
   "language": "python",
   "name": "python3"
  },
  "language_info": {
   "codemirror_mode": {
    "name": "ipython",
    "version": 3
   },
   "file_extension": ".py",
   "mimetype": "text/x-python",
   "name": "python",
   "nbconvert_exporter": "python",
   "pygments_lexer": "ipython3",
   "version": "3.6.5"
  }
 },
 "nbformat": 4,
 "nbformat_minor": 2
}
